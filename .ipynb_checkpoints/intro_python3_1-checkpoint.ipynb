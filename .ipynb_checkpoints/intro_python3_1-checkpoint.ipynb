{
 "cells": [
  {
   "cell_type": "markdown",
   "metadata": {},
   "source": [
    "# Introduction to Data Science. Lecture 2: Notebooks and Python Basics\n",
    "*COMP 5360 / MATH 4100, University of Utah, http://datasciencecourse.net/*\n",
    "\n",
    "Welcome to your first Jupyter notebook! This will be our main working environment for this class."
   ]
  },
  {
   "cell_type": "markdown",
   "metadata": {},
   "source": [
    "# Jupyter Notebook Basics\n",
    "\n",
    "First, let's get familiar with Jupyter Notebooks. \n",
    "\n",
    "Notebooks are made up of \"cells\" that can contain text or code. Notebooks also show you output of the code right below a code cell. These words are written in a text cell using a simple formatting dialect called [markdown](http://jupyter-notebook.readthedocs.io/en/latest/examples/Notebook/Working%20With%20Markdown%20Cells.html). \n",
    "\n",
    "Double click on this cell text or press enter while the cell is selected to see how it is formatted and change it. We can make words *italic* or **bold** or add [links](http://datasciencecourse.net) or include pictures:\n",
    "\n",
    "![Sample picture](decline.png)\n",
    "\n",
    "The content of the notebook, as you edit in your browser, is written to the `.ipynb` file we provided. \n",
    "\n",
    "If you want to read up on Notebooks in details check out the [excellent documentation](http://jupyter-notebook.readthedocs.io/en/latest/notebook.html).\n",
    "\n",
    "The most interesting aspect of notebooks, however, is that we can write code in the cells. You can use [many different programming languages](https://github.com/jupyter/jupyter/wiki/Jupyter-kernels) in Jupyter notebooks, but we'll stick to Python. So, let's try it out:"
   ]
  },
  {
   "cell_type": "code",
   "execution_count": null,
   "metadata": {
    "scrolled": true
   },
   "outputs": [],
   "source": [
    "print (\"Hello World!\")\n",
    "a = 3\n",
    "# the return value of the last line of a cell is the output\n",
    "a "
   ]
  },
  {
   "cell_type": "markdown",
   "metadata": {},
   "source": [
    "Again, we've greeted the world out there using a print statement. \n",
    "\n",
    "We also assigned a variable and returned it, which makes it the output of this cell. Notice that the output here is directly written into the notebook. \n",
    "\n",
    "You can change something in a cell and re-run it using the \"run cell\" button in the toolbar. \n",
    "\n",
    "Another cool thing about cells is that they preserve the state of what happened before. Let's initialize a couple of variables in the next cell: "
   ]
  },
  {
   "cell_type": "code",
   "execution_count": null,
   "metadata": {},
   "outputs": [],
   "source": [
    "age = 2\n",
    "gender = \"female\"\n",
    "name = \"Datascience Cat\"\n",
    "smart = True"
   ]
  },
  {
   "cell_type": "markdown",
   "metadata": {},
   "source": [
    "These variables are now available to all cell below or above **if you executed the cell**. In practice, you should never rely on a variable from a lower cell in an earlier cell. \n",
    "\n",
    "If you make a change to a cell, you need to execute it again. You can also batch-executed multiple cells using the \"Cell\" menu in the toolbar. \n",
    "\n",
    "Let's do something with the variables we just defined:"
   ]
  },
  {
   "cell_type": "code",
   "execution_count": null,
   "metadata": {},
   "outputs": [],
   "source": [
    "print (name + \", age: \" + str(age) + \", \" + \n",
    "       gender + \", is smart: \" + str(smart))"
   ]
  },
  {
   "cell_type": "markdown",
   "metadata": {},
   "source": [
    "In the previous cell, we've [concatenated a couple of strings](https://docs.python.org/3.5/tutorial/introduction.html#strings) to produce one longer string using the `+` operator. Also, we had to call the `str()` function to get [string representations of these variables](https://docs.python.org/3.5/library/stdtypes.html#str).\n",
    "\n",
    "An alternative way to do this is not to concatenate the string but to pass each variable in as a separate arguemtn to the print function: "
   ]
  },
  {
   "cell_type": "code",
   "execution_count": null,
   "metadata": {},
   "outputs": [],
   "source": [
    "print (name, \", age: \", str(age), \", \", gender, \", is smart: \" + str(smart), sep=\"\")"
   ]
  },
  {
   "cell_type": "markdown",
   "metadata": {},
   "source": [
    "## Modes\n",
    "\n",
    "Notebooks have two modes, a **command mode** and **edit mode**. You can see which mode you're in by the color of the cell: \n",
    " * **green** means edit mode, \n",
    " * **blue** means command mode. \n",
    " \n",
    "Many operations depend on your mode. You can switch into edit mode with \"Enter\", and get out of it with \"Escape\".\n",
    "\n",
    "\n",
    "## Shortucts\n",
    "\n",
    "While you can always use the tool-bar above, you'll be much more efficient if you use a couple of shortcuts. The most important ones are:\n",
    "\n",
    "**`Ctrl+Enter`** runs the current cell.  \n",
    "**`Shift+Enter`** runs the current cell and jumps to the next cell.   \n",
    "**`Alt+Enter`** runs the cell and adds a new one below it.\n",
    "\n",
    "In command mode:\n",
    "**`h`** shows a help menu with all these commands.  \n",
    "**`a`** adds a cell before the current cell.  \n",
    "**`b`** adds a cell after the current cell.  \n",
    "**`dd`** deletes a cell.  \n",
    "**`m`** as in **m**arkdown, switches a cell to markdown mode.  \n",
    "**`y`** as in p**y**thon switches a cell to code.  "
   ]
  },
  {
   "cell_type": "markdown",
   "metadata": {},
   "source": [
    "## Kernels\n",
    "\n",
    "When you [run code](http://jupyter-notebook.readthedocs.io/en/latest/examples/Notebook/Running%20Code.html), the code is actually executed in a **kernel**. You can do bad thinks to a kernel: you can make it stuck in an endless loop, crash it, corrupt it, etc. And you probably will do all of these things :). So sometimes you might have to interrupt your kernel or restart it. Use the \"Kernel\" menu to restart the kernel, re-run your notebook, etc.\n",
    "\n",
    "Also, before submitting a homework or a project, make sure to `Restart and Run All`. This will create a clean run of your project, without any side effects that you might encounter during development. We want you to submit the homeworks **with output**, and by doing that you will make sure that we actually can also execute your code properly.\n",
    "\n",
    "## Storing Output\n",
    "\n",
    "Notebooks contain both, the input to a computation and the outputs. If you run a notebook, all the outputs generated by the code cells are also stored in the notebook. That way, you can look at notebooks also in non-interactive environments, like on [GitHub for this notebook](https://github.com/datascience-course/2018-datascience-lectures/blob/master/02-basic-python/lecture-02-notebook.ipynb). \n",
    "\n",
    "The Notebook itself is stored in a rather ugly format containing the text, code, and the output. This can sometimes be challenging when working with version control."
   ]
  },
  {
   "cell_type": "markdown",
   "metadata": {
    "collapsed": true
   },
   "source": [
    "### Exercise 2: Creating Cells, Executing Code\n",
    "\n",
    "1. Create a new code cell below where you define variables containing your name, your age in years, and your major.\n",
    "2. Create another cell that uses these variables and prints a concatenated string stating your name, major, and your age in years, months, and days (assuming today is your birthday ;)). The output should look like that:\n",
    "\n",
    "```\n",
    "Name: Science Cat, Major: Computer Science, Age: 94 years, or 1128 months, or 34310 days. \n",
    "```"
   ]
  },
  {
   "cell_type": "markdown",
   "metadata": {},
   "source": [
    "# Python Basics\n",
    "\n",
    "## Functions\n",
    "\n",
    "In math, functions transfrom an input to an output as defined by the property of the function. \n",
    "\n",
    "You probably remember functions defined like this\n",
    "\n",
    "$f(x) = x^2 + 3$\n",
    "\n",
    "In programming, functions can do exactly this, but are also used to execute \"subroutines\", i.e., to execute pieces of code in various order and under various conditions. Functions in programming are very important for structuring and modularizing code. \n",
    "\n",
    "In computer science, functions are also called \"procedures\" and \"methods\" (there are subtle distinctions, but nothing we need to worry about at this time). \n",
    "\n",
    "The following Python function, for example, provides the output of the above defined function for every valid input: "
   ]
  },
  {
   "cell_type": "code",
   "execution_count": null,
   "metadata": {},
   "outputs": [],
   "source": [
    "def f(x):\n",
    "    result = x ** 2 + 3 \n",
    "    return result"
   ]
  },
  {
   "cell_type": "markdown",
   "metadata": {},
   "source": [
    "We can now run this function with multiple input values: "
   ]
  },
  {
   "cell_type": "code",
   "execution_count": null,
   "metadata": {},
   "outputs": [],
   "source": [
    "print(f(2))\n",
    "print(f(3))\n",
    "f(5)"
   ]
  },
  {
   "cell_type": "markdown",
   "metadata": {},
   "source": [
    "Let's take a look at this function. The first line\n",
    "```python\n",
    "def f(x):\n",
    "```\n",
    "defines the function of name `f` using the `def` keyword. The name we use (`f` here) is largely arbitrary, but following good software engineering practices it should be something meaningful. So instead of `f`, **`square_plus_three` would be a better function name in this case**.  \n",
    "\n",
    "After the function name follows a list of parameters, in parantheses. In this case we define that the function takes only one parameter, `x`, but we could also define multiple parameters like this:\n",
    "```python \n",
    "def f(x, y, z):\n",
    "```\n",
    "\n",
    "The parameters are then available as local variables within the function.\n",
    "\n",
    "The second line does the actual computation and assigns it to a **local variable** called `result`. \n",
    "\n",
    "The third line uses the `return` keyword to return the result variable. Functions can have a return value that we can assign to a variable. For example, here we could write: \n",
    "\n",
    "```python\n",
    "my_result = f(10)\n",
    "``` \n",
    "\n",
    "Which would assign the return value of the function to the variable `my_result`."
   ]
  },
  {
   "cell_type": "markdown",
   "metadata": {},
   "source": [
    "Note that the lines of code that belong to a function are **intended by four spaces** (you can hit tab to intend, but it will be converted to four spaces). Python defines the scope of a function using intendation. Many other programming languages use curly brackets {} to do this. A function is ended by a new line.\n",
    "\n",
    "For example, the same function wouldn't work like this:"
   ]
  },
  {
   "cell_type": "code",
   "execution_count": null,
   "metadata": {},
   "outputs": [],
   "source": [
    "def f(x):\n",
    "    result = x ** 2 + 3\n",
    "# Throws a NameError becauser result isn't defined outside the function\n",
    "return result"
   ]
  },
  {
   "cell_type": "markdown",
   "metadata": {},
   "source": [
    "Equally, we can't intend by too much:"
   ]
  },
  {
   "cell_type": "code",
   "execution_count": null,
   "metadata": {},
   "outputs": [],
   "source": [
    "def f(x):\n",
    "    result = x ** 2 + 3\n",
    "    # Throws an IndentationError\n",
    "        return result"
   ]
  },
  {
   "cell_type": "markdown",
   "metadata": {},
   "source": [
    "## Scope\n",
    "\n",
    "Another critical concept when working with functions is to understand the scope of a variable. Scope defines under which circumstances a variable is accessible. For example, in the following code snippet we cannot access the variable defined inside a function:"
   ]
  },
  {
   "cell_type": "code",
   "execution_count": null,
   "metadata": {},
   "outputs": [],
   "source": [
    "def scope_test():\n",
    "    function_scope = \"only readable in here\"\n",
    "    # Within the function, we can use the variable we have defined\n",
    "    print(\"Within function: \" + function_scope)\n",
    "\n",
    "# calling the function, which will print     \n",
    "scope_test()"
   ]
  },
  {
   "cell_type": "code",
   "execution_count": null,
   "metadata": {},
   "outputs": [],
   "source": [
    "# If we try to use the function_scope variable outside of the function, we will find that it is not defined. \n",
    "# This will throw a NameError, because Python doesn't know about that variable here\n",
    "print(\"Outside function: \" + function_scope)"
   ]
  },
  {
   "cell_type": "markdown",
   "metadata": {},
   "source": [
    "You might wonder \"Why is that? Wouldn't it make sense to have access to variables wherever I need access?\". The reason for scoping is that it's simply much easier to **build reliable software when we modularize code**. When we use a function, we shouldn't have to worry about its internals. \n",
    "\n",
    "Another practical reason is that this way we can **re-use variable names** that were used in other places. This is really important when we work with other peoples' code (e.g., libraries). If that weren't possible, we might get nasty side-effects just because the library uses a variable with the same name somewhere. \n",
    "\n",
    "You can, however, use variables defined in the larger scope in the sub-scope:"
   ]
  },
  {
   "cell_type": "code",
   "execution_count": null,
   "metadata": {},
   "outputs": [],
   "source": [
    "name = \"Science Cat\"\n",
    "\n",
    "def print_name_with_dr():\n",
    "    print(\"Dr.\", name)\n",
    "    \n",
    "print_name_with_dr()"
   ]
  },
  {
   "cell_type": "markdown",
   "metadata": {},
   "source": [
    "This is generally **not considered good practice** - functions should rely on their input parameters. Otherwise it can easily lead to side effects. This would be the better approach: "
   ]
  },
  {
   "cell_type": "code",
   "execution_count": null,
   "metadata": {},
   "outputs": [],
   "source": [
    "# notice that we're re-using the parameter name\n",
    "def print_name_with_dr(name):\n",
    "    print(\"Dr.\", name)\n",
    "    \n",
    "print_name_with_dr(name)"
   ]
  },
  {
   "cell_type": "markdown",
   "metadata": {},
   "source": [
    "Finally, there is a way to define a variable within a function for use outside its scope by using the global keyword. There are reasons to do this, however, it is generally discouraged."
   ]
  },
  {
   "cell_type": "code",
   "execution_count": null,
   "metadata": {},
   "outputs": [],
   "source": [
    "def scope_test():\n",
    "    # Think long and hard before you do this - generally you shoudln't. I have never.\n",
    "    global global_scope\n",
    "    global_scope = \"defined in the function, global scope\"\n",
    "    # Within the function, we can use the variable we have defined\n",
    "    print(\"Within function: \" + global_scope)\n",
    "\n",
    "scope_test()\n",
    "# Since this is defined as global we can also print the variable here\n",
    "print(\"Outside function: \" + global_scope)"
   ]
  },
  {
   "cell_type": "markdown",
   "metadata": {},
   "source": [
    "### Exercise 3: Functions\n",
    "Write a function that \n",
    " * takes two numerical variables\n",
    " * multiplies them with each other\n",
    " * divides them by a numerical variable defined in the scope outside the function\n",
    " * and returns the result. \n",
    " \n",
    "Print the result of the function for three different sets of input variables. "
   ]
  },
  {
   "cell_type": "markdown",
   "metadata": {},
   "source": [
    "## Looking Ahead: Conditions, Loops, Advanced Data Types\n",
    "\n",
    "We've learned how to execute operations and call and define functions. In the next lecture, we'll learn how we can control the flow of execution in a program unsing conditions (if statements) and loops. We'll also introduce more advanced data types such as lists and dictionaries. "
   ]
  }
 ],
 "metadata": {
  "anaconda-cloud": {},
  "kernelspec": {
   "display_name": "Python 3",
   "language": "python",
   "name": "python3"
  },
  "language_info": {
   "codemirror_mode": {
    "name": "ipython",
    "version": 3
   },
   "file_extension": ".py",
   "mimetype": "text/x-python",
   "name": "python",
   "nbconvert_exporter": "python",
   "pygments_lexer": "ipython3",
   "version": "3.6.2"
  }
 },
 "nbformat": 4,
 "nbformat_minor": 1
}
